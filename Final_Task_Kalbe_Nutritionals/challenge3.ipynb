{
 "cells": [
  {
   "cell_type": "code",
   "execution_count": 1,
   "metadata": {},
   "outputs": [],
   "source": [
    "# Melakukan import psycopg2\n",
    "import psycopg2\n",
    "\n",
    "# Melakukan percobaan koneksi\n",
    "conn = psycopg2.connect(\n",
    "    host=\"127.0.0.1\",   # localhost\n",
    "    port=\"5432\",        # port\n",
    "    user=\"postgres\",    # username\n",
    "    password=\"*******\",  # password\n",
    "    database=\"karyawan\" # database\n",
    ")\n",
    "\n",
    "# Membuat object cursor sebagai penanda\n",
    "cursor = conn.cursor()\n",
    "\n",
    "# Deklarasi SQL query untuk memasukkan record ke DB (KARYAWAN)\n",
    "insert_sql = (\n",
    "    \"INSERT INTO KARYAWAN (FIRST_NAME, LAST_NAME, AGE, SEX, INCOME)\"\n",
    "    \"VALUES (%s, %s, %s, %s, %s)\"\n",
    ")\n",
    "values = ('Budi', 'Santo', 24, 'male', 9000000)\n",
    "\n",
    "try:\n",
    "    # Eksekusi SQL command\n",
    "    cursor.execute(insert_sql, values)\n",
    "\n",
    "    # Melakukan perubahan (commit) pada DB\n",
    "    conn.commit()\n",
    "\n",
    "except:\n",
    "    # Roll back jika ada issue\n",
    "    conn.rollback()\n",
    "\n",
    "# Menutup koneksi\n",
    "conn.close()"
   ]
  }
 ],
 "metadata": {
  "kernelspec": {
   "display_name": "Python 3",
   "language": "python",
   "name": "python3"
  },
  "language_info": {
   "codemirror_mode": {
    "name": "ipython",
    "version": 3
   },
   "file_extension": ".py",
   "mimetype": "text/x-python",
   "name": "python",
   "nbconvert_exporter": "python",
   "pygments_lexer": "ipython3",
   "version": "3.10.12"
  },
  "orig_nbformat": 4
 },
 "nbformat": 4,
 "nbformat_minor": 2
}
